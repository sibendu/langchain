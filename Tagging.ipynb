{
 "cells": [
  {
   "cell_type": "code",
   "execution_count": 1,
   "id": "738680c8-5c54-4ea5-b9a8-142d3d73dd32",
   "metadata": {},
   "outputs": [],
   "source": [
    "## Tagging means labeling a document with classes such as:\n",
    "# sentiment , language,  style (formal, informal etc.), covered topics, political tendency\n",
    "# Tagging has a few components:\n",
    "#     function: Like extraction, tagging uses functions to specify how the model should tag a document\n",
    "#     schema: defines how we want to tag the document"
   ]
  },
  {
   "cell_type": "code",
   "execution_count": 2,
   "id": "354ce261-54af-445c-98e0-2c45382b0430",
   "metadata": {},
   "outputs": [],
   "source": [
    "from util.config import load_configuration\n",
    "\n",
    "PROP_FILE = 'app.properties'\n",
    "configs = load_configuration(PROP_FILE)\n",
    "\n",
    "API_TYPE = configs.get(\"API_TYPE\").data\n",
    "API_VERSION = configs.get(\"API_VERSION\").data\n",
    "API_KEY = configs.get(\"API_KEY\").data\n",
    "API_BASE = configs.get(\"API_BASE\").data\n",
    "LLM_ENGINE_GPT35_16K=configs.get(\"LLM_ENGINE_GPT35_16K\").data\n",
    "ADA_MODEL=configs.get(\"ADA_MODEL\").data"
   ]
  },
  {
   "cell_type": "code",
   "execution_count": 10,
   "id": "098d2f82-45b7-42f6-aa2e-e4435082fbb2",
   "metadata": {},
   "outputs": [],
   "source": [
    "from langchain_core.prompts import ChatPromptTemplate\n",
    "from langchain_core.pydantic_v1 import BaseModel, Field\n",
    "from langchain_openai import AzureChatOpenAI\n",
    "\n",
    "tagging_prompt = ChatPromptTemplate.from_template(\n",
    "    \"\"\"\n",
    "Extract the desired information from the following passage.\n",
    "\n",
    "Only extract the properties mentioned in the 'Classification' function.\n",
    "\n",
    "Passage:\n",
    "{input}\n",
    "\"\"\"\n",
    ")\n",
    "\n",
    "\n",
    "class Classification(BaseModel):\n",
    "    sentiment: str = Field(description=\"The sentiment of the text\")\n",
    "    aggressiveness: int = Field(\n",
    "        description=\"How aggressive the text is on a scale from 1 to 10\"\n",
    "    )\n",
    "    language: str = Field(description=\"The language the text is written in\")\n",
    "\n",
    "\n",
    "# LLM\n",
    "llm = AzureChatOpenAI(\n",
    "            azure_endpoint=API_BASE,\n",
    "            api_key=API_KEY,\n",
    "            azure_deployment=LLM_ENGINE_GPT35_16K,\n",
    "            openai_api_version=API_VERSION,\n",
    "        ).with_structured_output(\n",
    "            Classification\n",
    "        )\n",
    "\n",
    "tagging_chain = tagging_prompt | llm"
   ]
  },
  {
   "cell_type": "code",
   "execution_count": 11,
   "id": "64877a15-8767-4601-9bb5-fe1667b5b678",
   "metadata": {},
   "outputs": [],
   "source": [
    "inp = \"Estoy increiblemente contento de haberte conocido! Creo que seremos muy buenos amigos!\"\n",
    "res = tagging_chain.invoke({\"input\": inp})"
   ]
  },
  {
   "cell_type": "code",
   "execution_count": 12,
   "id": "bba6bb99-c37d-429a-a70b-2966727f3908",
   "metadata": {},
   "outputs": [
    {
     "data": {
      "text/plain": [
       "{'sentiment': 'positive', 'aggressiveness': 1, 'language': 'Spanish'}"
      ]
     },
     "execution_count": 12,
     "metadata": {},
     "output_type": "execute_result"
    }
   ],
   "source": [
    "res.dict()"
   ]
  },
  {
   "cell_type": "code",
   "execution_count": 14,
   "id": "a26c6b71-bcc7-4612-9619-eb834c0862d6",
   "metadata": {},
   "outputs": [],
   "source": [
    "## Finer control\n",
    "class Classification(BaseModel):\n",
    "    sentiment: str = Field(..., enum=[\"happy\", \"neutral\", \"sad\"])\n",
    "    aggressiveness: int = Field(\n",
    "        ...,\n",
    "        description=\"describes how aggressive the statement is, the higher the number the more aggressive\",\n",
    "        enum=[1, 2, 3, 4, 5],\n",
    "    )\n",
    "    language: str = Field(\n",
    "        ..., enum=[\"spanish\", \"english\", \"french\", \"german\", \"italian\"]\n",
    "    )\n",
    "\n",
    "tagging_prompt = ChatPromptTemplate.from_template(\n",
    "    \"\"\"\n",
    "Extract the desired information from the following passage.\n",
    "\n",
    "Only extract the properties mentioned in the 'Classification' function.\n",
    "\n",
    "Passage:\n",
    "{input}\n",
    "\"\"\"\n",
    ")\n",
    "\n",
    "llm = AzureChatOpenAI(\n",
    "            azure_endpoint=API_BASE,\n",
    "            api_key=API_KEY,\n",
    "            azure_deployment=LLM_ENGINE_GPT35_16K,\n",
    "            openai_api_version=API_VERSION,\n",
    "        ).with_structured_output(\n",
    "            Classification\n",
    "        )\n",
    "\n",
    "chain = tagging_prompt | llm"
   ]
  },
  {
   "cell_type": "code",
   "execution_count": 15,
   "id": "600b0e71-b99a-465c-b50c-8fb4080b2cba",
   "metadata": {},
   "outputs": [
    {
     "data": {
      "text/plain": [
       "Classification(sentiment='happy', aggressiveness=1, language='spanish')"
      ]
     },
     "execution_count": 15,
     "metadata": {},
     "output_type": "execute_result"
    }
   ],
   "source": [
    "inp = \"Estoy increiblemente contento de haberte conocido! Creo que seremos muy buenos amigos!\"\n",
    "chain.invoke({\"input\": inp})"
   ]
  },
  {
   "cell_type": "code",
   "execution_count": 16,
   "id": "5e7cbc78-dc5f-4833-bc9c-19ab59fba27b",
   "metadata": {},
   "outputs": [
    {
     "data": {
      "text/plain": [
       "Classification(sentiment='neutral', aggressiveness=2, language='english')"
      ]
     },
     "execution_count": 16,
     "metadata": {},
     "output_type": "execute_result"
    }
   ],
   "source": [
    "inp = \"Weather is ok here, I can go outside without much more than a coat\"\n",
    "chain.invoke({\"input\": inp})"
   ]
  },
  {
   "cell_type": "code",
   "execution_count": null,
   "id": "f4d86e18-7f1c-40bd-b1c3-650efb4e8cf6",
   "metadata": {},
   "outputs": [],
   "source": []
  }
 ],
 "metadata": {
  "kernelspec": {
   "display_name": ".venv",
   "language": "python",
   "name": ".venv"
  },
  "language_info": {
   "codemirror_mode": {
    "name": "ipython",
    "version": 3
   },
   "file_extension": ".py",
   "mimetype": "text/x-python",
   "name": "python",
   "nbconvert_exporter": "python",
   "pygments_lexer": "ipython3",
   "version": "3.8.10"
  }
 },
 "nbformat": 4,
 "nbformat_minor": 5
}
