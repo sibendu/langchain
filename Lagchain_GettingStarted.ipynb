{
 "cells": [
  {
   "cell_type": "code",
   "execution_count": 6,
   "id": "da6697eb-c8ae-4645-a545-c3062c95b980",
   "metadata": {},
   "outputs": [],
   "source": [
    "from langchain_openai import AzureChatOpenAI\n",
    "from util.config import load_configuration\n",
    "from langchain_core.prompts import ChatPromptTemplate\n",
    "from langchain_core.output_parsers import StrOutputParser"
   ]
  },
  {
   "cell_type": "code",
   "execution_count": 7,
   "id": "ae66c67f-cbc4-433c-b02d-74115d540b1b",
   "metadata": {},
   "outputs": [],
   "source": [
    "PROP_FILE = 'app.properties'\n",
    "configs = load_configuration(PROP_FILE)\n",
    "\n",
    "API_TYPE = configs.get(\"API_TYPE\").data\n",
    "API_VERSION = configs.get(\"API_VERSION\").data\n",
    "API_KEY = configs.get(\"API_KEY\").data\n",
    "API_BASE = configs.get(\"API_BASE\").data\n",
    "LLM_ENGINE_GPT35=configs.get(\"LLM_ENGINE_GPT35\").data\n",
    "LLM_ENGINE_GPT4=configs.get(\"LLM_ENGINE_GPT4\").data\n",
    "LLM_ENGINE_GPT35_16K=configs.get(\"LLM_ENGINE_GPT35_16K\").data\n",
    "ADA_MODEL=configs.get(\"ADA_MODEL\").data"
   ]
  },
  {
   "cell_type": "code",
   "execution_count": 9,
   "id": "96d93ba9-9d86-410c-84bf-d1b636c3deef",
   "metadata": {},
   "outputs": [],
   "source": [
    "llm = AzureChatOpenAI(\n",
    "    azure_endpoint=API_BASE,\n",
    "    api_key=API_KEY,\n",
    "    azure_deployment=LLM_ENGINE_GPT35_16K,\n",
    "    openai_api_version=API_VERSION,\n",
    ")"
   ]
  },
  {
   "cell_type": "code",
   "execution_count": 10,
   "id": "67dcbc36-3ae4-4de9-958e-79b8cfee673d",
   "metadata": {},
   "outputs": [],
   "source": [
    "prompt = ChatPromptTemplate.from_messages([\n",
    "    (\"system\", \"You are a world class technical documentation writer.\"),\n",
    "    (\"user\", \"{input}\")\n",
    "])\n",
    "\n",
    "output_parser = StrOutputParser()"
   ]
  },
  {
   "cell_type": "code",
   "execution_count": 11,
   "id": "7d9684e3-f35d-492f-97f7-0024d0c4145b",
   "metadata": {},
   "outputs": [],
   "source": [
    "chain = prompt | llm | output_parser"
   ]
  },
  {
   "cell_type": "code",
   "execution_count": 12,
   "id": "1b9c5f21-6601-4de4-bd50-d2203f685372",
   "metadata": {},
   "outputs": [
    {
     "data": {
      "text/plain": [
       "'Langsmith can greatly assist in the testing process by providing various features and functionalities that aid in creating and executing tests. Here are a few ways Langsmith can help with testing:\\n\\n1. Test case management: Langsmith allows you to create and organize test cases in a structured manner. You can easily define test steps, expected results, and any preconditions or dependencies for each test case. This helps ensure comprehensive test coverage and makes it easier to track progress.\\n\\n2. Test automation: Langsmith supports test automation frameworks, allowing you to write and execute automated tests. You can use popular testing frameworks like Selenium or Appium to automate web or mobile application testing. With automation, you can increase test efficiency, reduce manual effort, and improve overall test coverage.\\n\\n3. Test data management: Langsmith provides capabilities for managing test data effectively. You can define and maintain test data sets, create data-driven tests, and easily configure test data parameters. This ensures that tests can be run with different data combinations, enabling thorough testing of various scenarios.\\n\\n4. Test execution and reporting: Langsmith allows you to execute tests and track their execution status. You can easily schedule and run tests on different environments, such as different browsers or devices. Langsmith also provides comprehensive test result reporting, with detailed logs and metrics, helping you identify issues and track progress.\\n\\n5. Collaboration and integration: Langsmith facilitates collaboration among team members by allowing multiple users to work on test cases simultaneously. You can also integrate Langsmith with other testing tools or software development platforms, such as JIRA or Jenkins, to streamline the testing process and improve overall efficiency.\\n\\n6. Continuous testing: With Langsmith, you can integrate testing into your continuous integration and delivery (CI/CD) pipeline. This helps in achieving faster feedback on code changes and ensures that quality is maintained throughout the software development lifecycle.\\n\\nOverall, Langsmith provides a comprehensive set of features to streamline the testing process, improve test coverage, and enhance collaboration among team members, ultimately leading to better software quality.'"
      ]
     },
     "execution_count": 12,
     "metadata": {},
     "output_type": "execute_result"
    }
   ],
   "source": [
    "chain.invoke({\"input\": \"how can langsmith help with testing?\"})"
   ]
  },
  {
   "cell_type": "code",
   "execution_count": 13,
   "id": "b4e64a49-65b3-4e41-901a-282d0d47ff3f",
   "metadata": {},
   "outputs": [],
   "source": [
    "## Retrieval Chain, provide additional context to the LLM\n",
    "\n",
    "from langchain_community.document_loaders import WebBaseLoader\n",
    "loader = WebBaseLoader(\"https://docs.smith.langchain.com/user_guide\")\n",
    "\n",
    "docs = loader.load()"
   ]
  },
  {
   "cell_type": "code",
   "execution_count": 14,
   "id": "e568c996-3bb8-4623-a0f7-fd30bd546054",
   "metadata": {},
   "outputs": [],
   "source": [
    "from langchain_openai import AzureOpenAIEmbeddings\n",
    "\n",
    "embeddings = AzureOpenAIEmbeddings(\n",
    "    azure_endpoint=API_BASE,\n",
    "    azure_deployment=ADA_MODEL,\n",
    "     api_key=API_KEY,\n",
    "    openai_api_version=API_VERSION,\n",
    ")"
   ]
  },
  {
   "cell_type": "code",
   "execution_count": 15,
   "id": "b3ae6796-a947-4884-a0e2-151a132a00ab",
   "metadata": {},
   "outputs": [],
   "source": [
    "from langchain_community.vectorstores import FAISS\n",
    "from langchain_text_splitters import RecursiveCharacterTextSplitter\n",
    "\n",
    "\n",
    "text_splitter = RecursiveCharacterTextSplitter()\n",
    "documents = text_splitter.split_documents(docs)\n",
    "vector = FAISS.from_documents(documents, embeddings)"
   ]
  },
  {
   "cell_type": "code",
   "execution_count": 16,
   "id": "d65ced1c-14e4-4263-baae-702d34f687af",
   "metadata": {},
   "outputs": [],
   "source": [
    "from langchain.chains.combine_documents import create_stuff_documents_chain\n",
    "\n",
    "prompt = ChatPromptTemplate.from_template(\"\"\"Answer the following question based only on the provided context:\n",
    "\n",
    "<context>\n",
    "{context}\n",
    "</context>\n",
    "\n",
    "Question: {input}\"\"\")\n",
    "\n",
    "document_chain = create_stuff_documents_chain(llm, prompt)"
   ]
  },
  {
   "cell_type": "code",
   "execution_count": 17,
   "id": "b8922a0f-f170-4d3d-bd1b-f0819e7de662",
   "metadata": {},
   "outputs": [],
   "source": [
    "from langchain.chains import create_retrieval_chain\n",
    "\n",
    "retriever = vector.as_retriever()\n",
    "retrieval_chain = create_retrieval_chain(retriever, document_chain)"
   ]
  },
  {
   "cell_type": "code",
   "execution_count": 18,
   "id": "467209d5-9c1c-4954-a110-34760c650c3f",
   "metadata": {},
   "outputs": [
    {
     "name": "stdout",
     "output_type": "stream",
     "text": [
      "LangSmith can help with testing in several ways. First, it allows developers to create datasets that contain inputs and reference outputs, which can be used to run tests on their LLM applications. These test cases can be uploaded, created on the fly, or exported from application traces. LangSmith also provides the ability to run custom evaluations, both LLM and heuristic-based, to score test results.\n",
      "\n",
      "In addition, LangSmith offers a comparison view that allows developers to see the results of different configurations on the same datapoints side-by-side. This is useful for tracking and diagnosing regressions in test scores across multiple revisions of an application.\n",
      "\n",
      "Furthermore, LangSmith provides a playground environment for rapid iteration and experimentation. Developers can quickly test out different prompts and models, and every playground run is logged in the system and can be used to create test cases or compare with other runs.\n",
      "\n",
      "Overall, LangSmith supports the testing process by providing the tools and functionalities to create test datasets, evaluate test results, compare different configurations, and iterate on application development.\n"
     ]
    }
   ],
   "source": [
    "response = retrieval_chain.invoke({\"input\": \"how can langsmith help with testing?\"})\n",
    "print(response[\"answer\"])"
   ]
  },
  {
   "cell_type": "code",
   "execution_count": 19,
   "id": "f9477fb2-e323-4731-be02-6ca00742b801",
   "metadata": {},
   "outputs": [],
   "source": [
    "## Conversation Retrieval Chain\n",
    "\n",
    "from langchain.chains import create_history_aware_retriever\n",
    "from langchain_core.prompts import MessagesPlaceholder\n",
    "\n",
    "# First we need a prompt that we can pass into an LLM to generate this search query\n",
    "\n",
    "prompt = ChatPromptTemplate.from_messages([\n",
    "    MessagesPlaceholder(variable_name=\"chat_history\"),\n",
    "    (\"user\", \"{input}\"),\n",
    "    (\"user\", \"Given the above conversation, generate a search query to look up to get information relevant to the conversation\")\n",
    "])\n",
    "retriever_chain = create_history_aware_retriever(llm, retriever, prompt)"
   ]
  },
  {
   "cell_type": "code",
   "execution_count": 24,
   "id": "fa453e57-1550-42b4-9498-be882b67621d",
   "metadata": {},
   "outputs": [],
   "source": [
    "from langchain_core.messages import HumanMessage, AIMessage\n",
    "\n",
    "chat_history = [HumanMessage(content=\"Can LangSmith help test my LLM applications?\"), AIMessage(content=\"Yes!\")]"
   ]
  },
  {
   "cell_type": "code",
   "execution_count": 25,
   "id": "273a7655-353e-4882-a306-c15f3469756e",
   "metadata": {},
   "outputs": [
    {
     "name": "stdout",
     "output_type": "stream",
     "text": [
      "LangSmith User Guide | ğŸ¦œï¸�ğŸ› ï¸� LangSmith\n",
      "LangSmith User Guide | ğŸ¦œï¸�ğŸ› ï¸� LangSmith\n",
      "LangSmith User Guide | ğŸ¦œï¸�ğŸ› ï¸� LangSmith\n",
      "LangSmith User Guide | ğŸ¦œï¸�ğŸ› ï¸� LangSmith\n"
     ]
    }
   ],
   "source": [
    "answer=retriever_chain.invoke({\n",
    "    \"chat_history\": chat_history,\n",
    "    \"input\": \"Tell me how\"\n",
    "})\n",
    "\n",
    "for d in answer:\n",
    "    print(d.metadata['title'])"
   ]
  },
  {
   "cell_type": "code",
   "execution_count": 26,
   "id": "0f4a9e45-e107-4620-bc9c-7f9ed87b58f4",
   "metadata": {},
   "outputs": [],
   "source": [
    "prompt = ChatPromptTemplate.from_messages([\n",
    "    (\"system\", \"Answer the user's questions based on the below context:\\n\\n{context}\"),\n",
    "    MessagesPlaceholder(variable_name=\"chat_history\"),\n",
    "    (\"user\", \"{input}\"),\n",
    "])\n",
    "document_chain = create_stuff_documents_chain(llm, prompt)\n",
    "\n",
    "retrieval_chain = create_retrieval_chain(retriever_chain, document_chain)"
   ]
  },
  {
   "cell_type": "code",
   "execution_count": 27,
   "id": "d5217348-b1fd-4b78-9f06-341c2afdf7e4",
   "metadata": {},
   "outputs": [
    {
     "name": "stdout",
     "output_type": "stream",
     "text": [
      "LangSmith provides several features that can help test your LLM applications:\n",
      "\n",
      "1. Initial Test Set: LangSmith allows developers to create datasets, which are collections of inputs and reference outputs, to run tests on their LLM applications. You can upload test cases in bulk, create them on the fly, or export them from application traces. LangSmith also supports custom evaluations to score test results.\n",
      "\n",
      "2. Comparison View: When prototyping different versions of your applications and making changes, it's important to see if you've regressed with respect to your initial test cases. LangSmith offers a user-friendly comparison view for test runs, allowing you to track and diagnose regressions in test scores across multiple revisions of your application.\n",
      "\n",
      "3. Playground: LangSmith provides a playground environment for rapid iteration and experimentation. You can quickly test out different prompts and models, and every playground run is logged in the system, which can be used to create test cases or compare with other runs.\n",
      "\n",
      "4. Beta Testing: During the beta testing phase, LangSmith helps you collect more data on how your LLM applications are performing in real-world scenarios. You can gather human feedback on the responses your app is producing and attach feedback scores to logged traces. This feedback can be used to track regressions/improvements and develop automatic evaluations.\n",
      "\n",
      "5. Production Monitoring & Automations: Once your LLM application hits production, LangSmith allows you to closely inspect key data points, monitor metrics over time, and perform actions on traces in near real-time through automations. This helps you ensure that your application is delivering desirable results at scale and enables debugging of production issues.\n",
      "\n",
      "By utilizing these features, LangSmith can assist you in testing and optimizing your LLM applications throughout the development lifecycle.\n"
     ]
    }
   ],
   "source": [
    "chat_history = [HumanMessage(content=\"Can LangSmith help test my LLM applications?\"), AIMessage(content=\"Yes!\")]\n",
    "response=retrieval_chain.invoke({\n",
    "    \"chat_history\": chat_history,\n",
    "    \"input\": \"Tell me how\"\n",
    "})\n",
    "print(response[\"answer\"])"
   ]
  },
  {
   "cell_type": "code",
   "execution_count": 29,
   "id": "8ce71dcd-6a11-4434-a9b7-2aca2552a4b1",
   "metadata": {},
   "outputs": [],
   "source": [
    "## Agent\n",
    "\n",
    "from langchain.tools.retriever import create_retriever_tool\n",
    "\n",
    "retriever_tool = create_retriever_tool(\n",
    "    retriever,\n",
    "    \"langsmith_search\",\n",
    "    \"Search for information about LangSmith. For any questions about LangSmith, you must use this tool!\",\n",
    ")"
   ]
  },
  {
   "cell_type": "code",
   "execution_count": 30,
   "id": "c48b5cfa-8285-4151-a53e-8fdd42ea41cd",
   "metadata": {},
   "outputs": [],
   "source": [
    "tools = [retriever_tool]"
   ]
  },
  {
   "cell_type": "code",
   "execution_count": 31,
   "id": "3110718a-1114-4a30-934f-1d2fa64b5ae4",
   "metadata": {},
   "outputs": [],
   "source": [
    "from langchain_openai import ChatOpenAI\n",
    "from langchain import hub\n",
    "from langchain.agents import create_openai_functions_agent\n",
    "from langchain.agents import AgentExecutor\n",
    "\n",
    "# Get the prompt to use - you can modify this!\n",
    "prompt = hub.pull(\"hwchase17/openai-functions-agent\")\n",
    "\n",
    "# You need to set OPENAI_API_KEY environment variable or pass it as argument `api_key`.\n",
    "agent = create_openai_functions_agent(llm, tools, prompt)\n",
    "agent_executor = AgentExecutor(agent=agent, tools=tools, verbose=True)"
   ]
  },
  {
   "cell_type": "code",
   "execution_count": 32,
   "id": "2b22eff0-9b32-4a2f-a969-e8feaa0c3d19",
   "metadata": {},
   "outputs": [
    {
     "name": "stdout",
     "output_type": "stream",
     "text": [
      "\n",
      "\n",
      "\u001b[1m> Entering new AgentExecutor chain...\u001b[0m\n",
      "\u001b[32;1m\u001b[1;3mLangSmith can help test your LLM applications by providing valuable feedback and suggestions to improve your application. Here's how LangSmith can assist you:\n",
      "\n",
      "1. Personal Statement Evaluation: LangSmith can review your personal statement and provide feedback on its structure, content, and overall effectiveness. It can suggest improvements to make your statement more compelling and persuasive.\n",
      "\n",
      "2. Resume/CV Review: LangSmith can analyze your resume or CV and offer suggestions on how to highlight your academic and professional achievements effectively. It can provide guidance on formatting, content, and organization.\n",
      "\n",
      "3. Letter of Recommendation Guidance: LangSmith can provide advice on selecting the right recommenders and guide you on how to request effective letters of recommendation. It can also offer tips on what information to provide to your recommenders to ensure strong and supportive letters.\n",
      "\n",
      "4. Application Strategy: LangSmith can help you develop a personalized application strategy based on your profile, goals, and the specific requirements of the LLM programs you are applying to. It can assist with choosing the right schools, organizing your application timeline, and prioritizing your efforts.\n",
      "\n",
      "5. Interview Preparation: If you are invited for an interview as part of the application process, LangSmith can provide guidance on how to prepare effectively. It can offer tips on common interview questions, help you practice mock interviews, and provide feedback on your performance.\n",
      "\n",
      "Please note that LangSmith is an AI assistant and does not have access to specific details about LLM programs or institutions. It can provide general guidance and suggestions based on common practices and best practices in the application process. For specific questions about LLM programs or institutions, it is recommended to consult official resources or reach out to the respective institutions directly.\u001b[0m\n",
      "\n",
      "\u001b[1m> Finished chain.\u001b[0m\n"
     ]
    },
    {
     "data": {
      "text/plain": [
       "{'chat_history': [HumanMessage(content='Can LangSmith help test my LLM applications?'),\n",
       "  AIMessage(content='Yes!')],\n",
       " 'input': 'Tell me how',\n",
       " 'output': \"LangSmith can help test your LLM applications by providing valuable feedback and suggestions to improve your application. Here's how LangSmith can assist you:\\n\\n1. Personal Statement Evaluation: LangSmith can review your personal statement and provide feedback on its structure, content, and overall effectiveness. It can suggest improvements to make your statement more compelling and persuasive.\\n\\n2. Resume/CV Review: LangSmith can analyze your resume or CV and offer suggestions on how to highlight your academic and professional achievements effectively. It can provide guidance on formatting, content, and organization.\\n\\n3. Letter of Recommendation Guidance: LangSmith can provide advice on selecting the right recommenders and guide you on how to request effective letters of recommendation. It can also offer tips on what information to provide to your recommenders to ensure strong and supportive letters.\\n\\n4. Application Strategy: LangSmith can help you develop a personalized application strategy based on your profile, goals, and the specific requirements of the LLM programs you are applying to. It can assist with choosing the right schools, organizing your application timeline, and prioritizing your efforts.\\n\\n5. Interview Preparation: If you are invited for an interview as part of the application process, LangSmith can provide guidance on how to prepare effectively. It can offer tips on common interview questions, help you practice mock interviews, and provide feedback on your performance.\\n\\nPlease note that LangSmith is an AI assistant and does not have access to specific details about LLM programs or institutions. It can provide general guidance and suggestions based on common practices and best practices in the application process. For specific questions about LLM programs or institutions, it is recommended to consult official resources or reach out to the respective institutions directly.\"}"
      ]
     },
     "execution_count": 32,
     "metadata": {},
     "output_type": "execute_result"
    }
   ],
   "source": [
    "chat_history = [HumanMessage(content=\"Can LangSmith help test my LLM applications?\"), AIMessage(content=\"Yes!\")]\n",
    "agent_executor.invoke({\n",
    "    \"chat_history\": chat_history,\n",
    "    \"input\": \"Tell me how\"\n",
    "})"
   ]
  },
  {
   "cell_type": "code",
   "execution_count": null,
   "id": "022b10ba-74e8-4271-9a0c-1a0f72ac1cb9",
   "metadata": {},
   "outputs": [],
   "source": []
  }
 ],
 "metadata": {
  "kernelspec": {
   "display_name": ".venv",
   "language": "python",
   "name": ".venv"
  },
  "language_info": {
   "codemirror_mode": {
    "name": "ipython",
    "version": 3
   },
   "file_extension": ".py",
   "mimetype": "text/x-python",
   "name": "python",
   "nbconvert_exporter": "python",
   "pygments_lexer": "ipython3",
   "version": "3.8.10"
  }
 },
 "nbformat": 4,
 "nbformat_minor": 5
}
