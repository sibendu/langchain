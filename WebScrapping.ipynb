{
 "cells": [
  {
   "cell_type": "code",
   "execution_count": 1,
   "id": "4b4e7b5d-c5b8-47f3-92c6-b6cc0c423594",
   "metadata": {},
   "outputs": [],
   "source": [
    "## Gathering content from the web has a few components:\n",
    "#     Search: Query to url (e.g., using GoogleSearchAPIWrapper).\n",
    "#     Loading: Url to HTML (e.g., using AsyncHtmlLoader, AsyncChromiumLoader, etc).\n",
    "#     Transforming: HTML to formatted text (e.g., using HTML2Text or Beautiful Soup)."
   ]
  },
  {
   "cell_type": "code",
   "execution_count": 2,
   "id": "354ce261-54af-445c-98e0-2c45382b0430",
   "metadata": {},
   "outputs": [],
   "source": [
    "from langchain_openai import AzureChatOpenAI\n",
    "from util.config import load_configuration\n",
    "\n",
    "PROP_FILE = 'app.properties'\n",
    "configs = load_configuration(PROP_FILE)\n",
    "\n",
    "API_TYPE = configs.get(\"API_TYPE\").data\n",
    "API_VERSION = configs.get(\"API_VERSION\").data\n",
    "API_KEY = configs.get(\"API_KEY\").data\n",
    "API_BASE = configs.get(\"API_BASE\").data\n",
    "LLM_ENGINE_GPT35_16K=configs.get(\"LLM_ENGINE_GPT35_16K\").data\n",
    "ADA_MODEL=configs.get(\"ADA_MODEL\").data"
   ]
  },
  {
   "cell_type": "code",
   "execution_count": 3,
   "id": "07ec5390-2861-45fe-a65b-013a89960115",
   "metadata": {},
   "outputs": [],
   "source": [
    "llm = AzureChatOpenAI(\n",
    "            azure_endpoint=API_BASE,\n",
    "            api_key=API_KEY,\n",
    "            azure_deployment=LLM_ENGINE_GPT35_16K,\n",
    "            openai_api_version=API_VERSION,\n",
    "        )\n"
   ]
  },
  {
   "cell_type": "code",
   "execution_count": 24,
   "id": "098d2f82-45b7-42f6-aa2e-e4435082fbb2",
   "metadata": {},
   "outputs": [
    {
     "name": "stderr",
     "output_type": "stream",
     "text": [
      "Fetching pages: 100%|#####################################################################| 1/1 [00:01<00:00,  1.19s/it]\n"
     ]
    }
   ],
   "source": [
    "from langchain_community.document_loaders import AsyncChromiumLoader\n",
    "from langchain_community.document_loaders import AsyncHtmlLoader\n",
    "from langchain_community.document_transformers import BeautifulSoupTransformer\n",
    "\n",
    "# Load HTML\n",
    "loader = AsyncHtmlLoader([\"https://www.espn.com\"])\n",
    "docs = loader.load()"
   ]
  },
  {
   "cell_type": "code",
   "execution_count": 25,
   "id": "6849dee5-c216-4ea2-8b3a-51667121d1bc",
   "metadata": {},
   "outputs": [
    {
     "data": {
      "text/plain": [
       "'Skip to main content  Skip to navigation\\n\\n<\\n\\n>\\n\\nMenu\\n\\n## ESPN\\n\\n  *   *   * scores\\n\\n  * NFL\\n  * NBA\\n  * MLB\\n  * NHL\\n  * Soccer\\n  * MMA\\n  * …\\n\\n    * NCAAF\\n    * Sports Betting\\n    * Boxing\\n    * CFL\\n    * NCAA\\n    * Cricket\\n    * F1\\n    * Golf\\n    * Horse\\n    * LLWS\\n    * NASCAR\\n    * NBA G League\\n    * NCAAM\\n    * NCAAW\\n    * Olympic Sports\\n    * PLL\\n    * Professional Wrestling\\n    * Racing\\n    * RN BB\\n    * RN FB\\n    * Rugby\\n    * Tennis\\n    * WNBA\\n    * X Games\\n    * UFL\\n\\n  * More ESPN\\n  * Fan'"
      ]
     },
     "execution_count": 25,
     "metadata": {},
     "output_type": "execute_result"
    }
   ],
   "source": [
    "from langchain_community.document_transformers import Html2TextTransformer\n",
    "\n",
    "html2text = Html2TextTransformer()\n",
    "docs_transformed = html2text.transform_documents(docs)\n",
    "docs_transformed[0].page_content[0:500]"
   ]
  },
  {
   "cell_type": "code",
   "execution_count": 26,
   "id": "64877a15-8767-4601-9bb5-fe1667b5b678",
   "metadata": {},
   "outputs": [
    {
     "data": {
      "text/plain": [
       "[Document(page_content='Menu PGA TOUR LIVE LPGA: Featured Groups MLB NCAA Softball NCAA Baseball Biggest Roster Holes For Every NFL Team NFL Draft NBA Postseason Tracker NFL Free Agency ESPN Radio: Listen Live How To Watch NHL Games Watch Golf on ESPN ESPN Deportes Andscape espnW ESPNFC X Games SEC Network ESPN ESPN Fantasy Tournament Challenge Facebook X/Twitter Instagram Snapchat TikTok YouTube West Semifinals - Game 2 Series tied 1-1 East 2nd Round - Game 3 NYR lead series 3-0 16h Zach Lowe East Semifinals - Game 2 Series tied 1-1 1d Jeff Passan 1h David Schoenfield 1h Alden Gonzalez 12m Timothy Bradley Jr. 1d Nick Parkinson West 2nd Round - Game 2 Series tied 1-1 Photo by Ken Blaze/USA TODAY Sports Brad Penner-USA TODAY Sports Rich Schultz/Getty Images Dale Zanine-USA TODAY Sports Jan Kruger/Getty Images Andrew D. Bernstein/NBAE via Getty Images Todd Rosenberg/Getty Images Chris Gardner/Getty Images PGA TOUR LIVE MLB Biggest Roster Holes For Every NFL Team NFL Draft NBA Postseason Tracker NFL Free Agency ESPN Radio: Listen Live How To Watch NHL Games Watch Golf on ESPN ESPN Deportes Andscape espnW ESPNFC X Games SEC Network ESPN ESPN Fantasy Tournament Challenge Facebook X/Twitter Instagram Snapchat TikTok YouTube', metadata={'source': 'https://www.espn.com', 'title': 'ESPN - Serving Sports Fans. Anytime. Anywhere.', 'description': 'Visit ESPN for live scores, highlights and sports news. Stream exclusive games on ESPN+ and play fantasy sports.', 'language': 'en'})]"
      ]
     },
     "execution_count": 26,
     "metadata": {},
     "output_type": "execute_result"
    }
   ],
   "source": [
    "# Transform\n",
    "#   HTML2Text provides a straightforward conversion of HTML content into plain text (with markdown-like formatting) without any specific tag manipulation.\n",
    "#   It's best suited for scenarios where the goal is to extract human-readable text without needing to manipulate specific HTML elements.\n",
    "#   Beautiful Soup offers more fine-grained control over HTML content, enabling specific tag extraction, removal, and content cleaning.\n",
    "#   It's suited for cases where you want to extract specific information and clean up the HTML content according to your needs.\n",
    "\n",
    "bs_transformer = BeautifulSoupTransformer()\n",
    "docs_transformed = bs_transformer.transform_documents(html, tags_to_extract=[\"span\"])\n",
    "docs_transformed"
   ]
  },
  {
   "cell_type": "code",
   "execution_count": 28,
   "id": "dbe5067f-341c-46c6-ba7d-1311ffd58977",
   "metadata": {},
   "outputs": [],
   "source": [
    "# Scraping with extraction\n",
    "\n",
    "from langchain.chains import create_extraction_chain\n",
    "\n",
    "schema = {\n",
    "    \"properties\": {\n",
    "        \"news_article_title\": {\"type\": \"string\"},\n",
    "        \"news_article_summary\": {\"type\": \"string\"},\n",
    "    },\n",
    "    \"required\": [\"news_article_title\", \"news_article_summary\"],\n",
    "}\n",
    "\n",
    "\n",
    "def extract(content: str, schema: dict):\n",
    "    return create_extraction_chain(schema=schema, llm=llm).run(content)"
   ]
  },
  {
   "cell_type": "code",
   "execution_count": 32,
   "id": "106cce04-a5d3-4f6e-85be-31ed282869d1",
   "metadata": {},
   "outputs": [
    {
     "name": "stderr",
     "output_type": "stream",
     "text": [
      "/usr/lib/python3.8/site-packages/langchain_core/_api/deprecation.py:119: LangChainDeprecationWarning: The method `Chain.run` was deprecated in langchain 0.1.0 and will be removed in 0.2.0. Use invoke instead.\n",
      "  warn_deprecated(\n"
     ]
    },
    {
     "name": "stdout",
     "output_type": "stream",
     "text": [
      "[{'news_article_title': 'Menu PGA TOUR LIVE LPGA: Featured Groups MLB NCAA '\n",
      "                        'Softball NCAA Baseball Biggest Roster Holes For Every '\n",
      "                        'NFL Team NFL Draft NBA Postseason Tracker NFL Free '\n",
      "                        'Agency ESPN Radio: Listen Live How To Watch NHL Games '\n",
      "                        'Watch Golf on ESPN ESPN Deportes Andscape espnW '\n",
      "                        'ESPNFC X Games SEC Network ESPN ESPN Fantasy '\n",
      "                        'Tournament Challenge Facebook X/Twitter Instagram '\n",
      "                        'Snapchat TikTok YouTube West Semifinals - Game 2 '\n",
      "                        'Series tied 1-1 East 2nd Round - Game 3 NYR lead '\n",
      "                        'series 3-0 16h Zach Lowe East Semifinals - Game 2 '\n",
      "                        'Series tied 1-1 1d Jeff Passan 1h David Schoenfield '\n",
      "                        '1h Alden Gonzalez 12m Timothy Bradley Jr. 1d Nick '\n",
      "                        'Parkinson West 2nd Round - Game 2 Series tied 1-1 '\n",
      "                        'Photo by Ken Blaze/USA TODAY Sports Brad Penner-USA '\n",
      "                        'TODAY Sports Rich Schultz/Getty Images Dale '\n",
      "                        'Zanine-USA TODAY Sports Jan Kruger/Getty Images '\n",
      "                        'Andrew D. Bernstein/NBAE via Getty Images Todd '\n",
      "                        'Rosenberg/Getty Images Chris Gardner/Getty Images PGA '\n",
      "                        'TOUR LIVE MLB Biggest Roster Holes For Every NFL Team '\n",
      "                        'NFL Draft NBA Postseason Tracker NFL Free Agency ESPN '\n",
      "                        'Radio: Listen Live How To Watch NHL Games Watch Golf '\n",
      "                        'on ESPN ESPN Deportes Andscape espnW ESPNFC X Games '\n",
      "                        'SEC Network ESPN ESPN Fantasy Tournament Challenge '\n",
      "                        'Facebook X/Twitter Instagram Snapchat TikTok YouTube'}]\n"
     ]
    }
   ],
   "source": [
    "import pprint\n",
    "\n",
    "from langchain_text_splitters import RecursiveCharacterTextSplitter\n",
    "\n",
    "# Grab the first 1000 tokens of the site\n",
    "splitter = RecursiveCharacterTextSplitter.from_tiktoken_encoder(\n",
    "    chunk_size=1000, chunk_overlap=0\n",
    ")\n",
    "splits = splitter.split_documents(docs_transformed)\n",
    "\n",
    "# Process the first split\n",
    "extracted_content = extract(schema=schema, content=splits[0].page_content)\n",
    "pprint.pprint(extracted_content)"
   ]
  },
  {
   "cell_type": "code",
   "execution_count": null,
   "id": "121d79f5-8a4a-47d8-a055-90ca9a489d8f",
   "metadata": {},
   "outputs": [],
   "source": []
  }
 ],
 "metadata": {
  "kernelspec": {
   "display_name": ".venv",
   "language": "python",
   "name": ".venv"
  },
  "language_info": {
   "codemirror_mode": {
    "name": "ipython",
    "version": 3
   },
   "file_extension": ".py",
   "mimetype": "text/x-python",
   "name": "python",
   "nbconvert_exporter": "python",
   "pygments_lexer": "ipython3",
   "version": "3.8.10"
  }
 },
 "nbformat": 4,
 "nbformat_minor": 5
}
